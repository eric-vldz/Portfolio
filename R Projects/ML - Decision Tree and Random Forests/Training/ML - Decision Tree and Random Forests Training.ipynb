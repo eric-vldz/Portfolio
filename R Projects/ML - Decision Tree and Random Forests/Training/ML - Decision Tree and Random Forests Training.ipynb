{
 "cells": [
  {
   "cell_type": "code",
   "execution_count": 11,
   "metadata": {
    "vscode": {
     "languageId": "r"
    }
   },
   "outputs": [
    {
     "name": "stderr",
     "output_type": "stream",
     "text": [
      "Warning message:\n",
      "\"package 'randomForest' was built under R version 4.4.1\"\n",
      "randomForest 4.7-1.2\n",
      "\n",
      "Type rfNews() to see new features/changes/bug fixes.\n",
      "\n"
     ]
    },
    {
     "name": "stdout",
     "output_type": "stream",
     "text": [
      "'data.frame':\t81 obs. of  4 variables:\n",
      " $ Kyphosis: Factor w/ 2 levels \"absent\",\"present\": 1 1 2 1 1 1 1 1 1 2 ...\n",
      " $ Age     : int  71 158 128 2 1 1 61 37 113 59 ...\n",
      " $ Number  : int  3 3 4 5 4 2 2 3 2 6 ...\n",
      " $ Start   : int  5 14 5 1 15 16 17 16 16 12 ...\n",
      "  Kyphosis Age Number Start\n",
      "1   absent  71      3     5\n",
      "2   absent 158      3    14\n",
      "3  present 128      4     5\n",
      "4   absent   2      5     1\n",
      "5   absent   1      4    15\n",
      "6   absent   1      2    16\n"
     ]
    }
   ],
   "source": [
    "# Import libraries and check structure of kyphosis data\n",
    "library(\"rpart\")\n",
    "library(\"rpart.plot\")\n",
    "library(\"randomForest\")\n",
    "str(kyphosis)\n",
    "print(head(kyphosis))"
   ]
  },
  {
   "cell_type": "code",
   "execution_count": 8,
   "metadata": {
    "vscode": {
     "languageId": "r"
    }
   },
   "outputs": [
    {
     "name": "stdout",
     "output_type": "stream",
     "text": [
      "n= 81 \n",
      "\n",
      "node), split, n, loss, yval, (yprob)\n",
      "      * denotes terminal node\n",
      "\n",
      " 1) root 81 17 absent (0.79012346 0.20987654)  \n",
      "   2) Start>=8.5 62  6 absent (0.90322581 0.09677419)  \n",
      "     4) Start>=14.5 29  0 absent (1.00000000 0.00000000) *\n",
      "     5) Start< 14.5 33  6 absent (0.81818182 0.18181818)  \n",
      "      10) Age< 55 12  0 absent (1.00000000 0.00000000) *\n",
      "      11) Age>=55 21  6 absent (0.71428571 0.28571429)  \n",
      "        22) Age>=111 14  2 absent (0.85714286 0.14285714) *\n",
      "        23) Age< 111 7  3 present (0.42857143 0.57142857) *\n",
      "   3) Start< 8.5 19  8 present (0.42105263 0.57894737) *\n"
     ]
    },
    {
     "name": "stdout",
     "output_type": "stream",
     "text": [
      "\n",
      "Classification tree:\n",
      "rpart(formula = Kyphosis ~ ., data = kyphosis, method = \"class\")\n",
      "\n",
      "Variables actually used in tree construction:\n",
      "[1] Age   Start\n",
      "\n",
      "Root node error: 17/81 = 0.20988\n",
      "\n",
      "n= 81 \n",
      "\n",
      "        CP nsplit rel error xerror    xstd\n",
      "1 0.176471      0   1.00000 1.0000 0.21559\n",
      "2 0.019608      1   0.82353 1.1765 0.22829\n",
      "3 0.010000      4   0.76471 1.1765 0.22829\n"
     ]
    },
    {
     "data": {
      "image/png": "[encoded data removed]",
      "text/plain": [
       "Plot with title \"Kyphosis Tree\""
      ]
     },
     "metadata": {
      "image/png": {
       "height": 420,
       "width": 420
      }
     },
     "output_type": "display_data"
    }
   ],
   "source": [
    "tree <- rpart(Kyphosis ~ ., data = kyphosis, method = \"class\")\n",
    "print(tree)\n",
    "plot(tree, uniform = T, main = \"Kyphosis Tree\")\n",
    "text(tree, use.n = T, all = T)\n",
    "printcp(tree)"
   ]
  },
  {
   "cell_type": "code",
   "execution_count": 10,
   "metadata": {
    "vscode": {
     "languageId": "r"
    }
   },
   "outputs": [
    {
     "data": {
      "image/png": "[encoded data removed]",
      "text/plain": [
       "plot without title"
      ]
     },
     "metadata": {
      "image/png": {
       "height": 420,
       "width": 420
      }
     },
     "output_type": "display_data"
    }
   ],
   "source": [
    "prp(tree)"
   ]
  },
  {
   "cell_type": "code",
   "execution_count": 12,
   "metadata": {
    "vscode": {
     "languageId": "r"
    }
   },
   "outputs": [
    {
     "name": "stdout",
     "output_type": "stream",
     "text": [
      "\n",
      "Call:\n",
      " randomForest(formula = Kyphosis ~ ., data = kyphosis) \n",
      "               Type of random forest: classification\n",
      "                     Number of trees: 500\n",
      "No. of variables tried at each split: 1\n",
      "\n",
      "        OOB estimate of  error rate: 20.99%\n",
      "Confusion matrix:\n",
      "        absent present class.error\n",
      "absent      59       5   0.0781250\n",
      "present     12       5   0.7058824\n"
     ]
    }
   ],
   "source": [
    "rf.model <- randomForest(Kyphosis ~ ., data = kyphosis)\n",
    "print(rf.model)"
   ]
  },
  {
   "cell_type": "code",
   "execution_count": 14,
   "metadata": {
    "vscode": {
     "languageId": "r"
    }
   },
   "outputs": [
    {
     "name": "stdout",
     "output_type": "stream",
     "text": [
      "        absent present class.error\n",
      "absent      59       5   0.0781250\n",
      "present     12       5   0.7058824\n"
     ]
    }
   ],
   "source": [
    "print(rf.model$confusion)"
   ]
  }
 ],
 "metadata": {
  "kernelspec": {
   "display_name": "R",
   "language": "R",
   "name": "ir"
  },
  "language_info": {
   "codemirror_mode": "r",
   "file_extension": ".r",
   "mimetype": "text/x-r-source",
   "name": "R",
   "pygments_lexer": "r",
   "version": "4.4.0"
  }
 },
 "nbformat": 4,
 "nbformat_minor": 2
}
