{
 "cells": [
  {
   "cell_type": "code",
   "execution_count": 16,
   "metadata": {
    "vscode": {
     "languageId": "r"
    }
   },
   "outputs": [
    {
     "name": "stdout",
     "output_type": "stream",
     "text": [
      "  Sepal.Length Sepal.Width Petal.Length Petal.Width Species\n",
      "1          5.1         3.5          1.4         0.2  setosa\n",
      "2          4.9         3.0          1.4         0.2  setosa\n",
      "3          4.7         3.2          1.3         0.2  setosa\n",
      "4          4.6         3.1          1.5         0.2  setosa\n",
      "5          5.0         3.6          1.4         0.2  setosa\n",
      "6          5.4         3.9          1.7         0.4  setosa\n",
      "'data.frame':\t150 obs. of  5 variables:\n",
      " $ Sepal.Length: num  5.1 4.9 4.7 4.6 5 5.4 4.6 5 4.4 4.9 ...\n",
      " $ Sepal.Width : num  3.5 3 3.2 3.1 3.6 3.9 3.4 3.4 2.9 3.1 ...\n",
      " $ Petal.Length: num  1.4 1.4 1.3 1.5 1.4 1.7 1.4 1.5 1.4 1.5 ...\n",
      " $ Petal.Width : num  0.2 0.2 0.2 0.2 0.2 0.4 0.3 0.2 0.2 0.1 ...\n",
      " $ Species     : Factor w/ 3 levels \"setosa\",\"versicolor\",..: 1 1 1 1 1 1 1 1 1 1 ...\n"
     ]
    }
   ],
   "source": [
    "# Load the ISLR package and get structure of the dataset\n",
    "library(ISLR)\n",
    "library(class)\n",
    "library(ggplot2)\n",
    "library(dplyr)\n",
    "library(caTools)\n",
    "\n",
    "# check the head of the dataset 7 and get structure\n",
    "print(head(iris))\n",
    "str(iris)"
   ]
  },
  {
   "cell_type": "code",
   "execution_count": 17,
   "metadata": {
    "vscode": {
     "languageId": "r"
    }
   },
   "outputs": [
    {
     "name": "stdout",
     "output_type": "stream",
     "text": [
      "[1] FALSE\n"
     ]
    },
    {
     "data": {
      "text/html": [
       "0.685693512304251"
      ],
      "text/latex": [
       "0.685693512304251"
      ],
      "text/markdown": [
       "0.685693512304251"
      ],
      "text/plain": [
       "[1] 0.6856935"
      ]
     },
     "metadata": {},
     "output_type": "display_data"
    },
    {
     "data": {
      "text/html": [
       "0.189979418344519"
      ],
      "text/latex": [
       "0.189979418344519"
      ],
      "text/markdown": [
       "0.189979418344519"
      ],
      "text/plain": [
       "[1] 0.1899794"
      ]
     },
     "metadata": {},
     "output_type": "display_data"
    },
    {
     "data": {
      "text/html": [
       "3.11627785234899"
      ],
      "text/latex": [
       "3.11627785234899"
      ],
      "text/markdown": [
       "3.11627785234899"
      ],
      "text/plain": [
       "[1] 3.116278"
      ]
     },
     "metadata": {},
     "output_type": "display_data"
    },
    {
     "data": {
      "text/html": [
       "0.581006263982103"
      ],
      "text/latex": [
       "0.581006263982103"
      ],
      "text/markdown": [
       "0.581006263982103"
      ],
      "text/plain": [
       "[1] 0.5810063"
      ]
     },
     "metadata": {},
     "output_type": "display_data"
    }
   ],
   "source": [
    "# check for missing values and variance\n",
    "print(any(is.na(iris)))\n",
    "var(iris[, 1])\n",
    "var(iris[, 2])\n",
    "var(iris[, 3])\n",
    "var(iris[, 4])"
   ]
  },
  {
   "cell_type": "code",
   "execution_count": 18,
   "metadata": {
    "vscode": {
     "languageId": "r"
    }
   },
   "outputs": [
    {
     "name": "stdout",
     "output_type": "stream",
     "text": [
      "             Sepal.Length Sepal.Width Petal.Length Petal.Width\n",
      "Sepal.Length    1.0000000  -0.1175698    0.8717538   0.8179411\n",
      "Sepal.Width    -0.1175698   1.0000000   -0.4284401  -0.3661259\n",
      "Petal.Length    0.8717538  -0.4284401    1.0000000   0.9628654\n",
      "Petal.Width     0.8179411  -0.3661259    0.9628654   1.0000000\n",
      "Sepal.Length  Sepal.Width Petal.Length  Petal.Width \n",
      "   1.0000000   -0.1175698    0.8717538    0.8179411 \n"
     ]
    }
   ],
   "source": [
    "# Standardize the features\n",
    "stand.features <- scale(iris[1:4])\n",
    "print(var(stand.features))\n",
    "print(var(stand.features)[,1])"
   ]
  },
  {
   "cell_type": "code",
   "execution_count": 20,
   "metadata": {
    "vscode": {
     "languageId": "r"
    }
   },
   "outputs": [
    {
     "name": "stdout",
     "output_type": "stream",
     "text": [
      "  Sepal.Length Sepal.Width Petal.Length Petal.Width Species\n",
      "1   -0.8976739  1.01560199    -1.335752   -1.311052  setosa\n",
      "2   -1.1392005 -0.13153881    -1.335752   -1.311052  setosa\n",
      "3   -1.3807271  0.32731751    -1.392399   -1.311052  setosa\n",
      "4   -1.5014904  0.09788935    -1.279104   -1.311052  setosa\n",
      "5   -1.0184372  1.24503015    -1.335752   -1.311052  setosa\n",
      "6   -0.5353840  1.93331463    -1.165809   -1.048667  setosa\n"
     ]
    }
   ],
   "source": [
    "# Combine the standardized features with the class variable\n",
    "iris1 <- cbind(stand.features, iris[5])\n",
    "print(head(iris1))"
   ]
  },
  {
   "cell_type": "code",
   "execution_count": 22,
   "metadata": {
    "vscode": {
     "languageId": "r"
    }
   },
   "outputs": [],
   "source": [
    "# Set a seed for reproducibility\n",
    "set.seed(101)\n",
    "\n",
    "# Split the dataset\n",
    "sample <- sample.split(iris1$Species, SplitRatio = .70)\n",
    "\n",
    "# Create training set\n",
    "train <- subset(iris1, sample == TRUE)\n",
    "\n",
    "# Create testing set\n",
    "test <- subset(iris1, sample == FALSE)"
   ]
  },
  {
   "cell_type": "code",
   "execution_count": 23,
   "metadata": {
    "vscode": {
     "languageId": "r"
    }
   },
   "outputs": [
    {
     "name": "stdout",
     "output_type": "stream",
     "text": [
      " [1] setosa     setosa     setosa     setosa     setosa     setosa    \n",
      " [7] setosa     setosa     setosa     setosa     setosa     setosa    \n",
      "[13] setosa     setosa     setosa     versicolor versicolor versicolor\n",
      "[19] versicolor versicolor virginica  versicolor versicolor versicolor\n",
      "[25] versicolor versicolor virginica  versicolor versicolor versicolor\n",
      "[31] virginica  virginica  virginica  virginica  virginica  virginica \n",
      "[37] virginica  virginica  virginica  virginica  virginica  virginica \n",
      "[43] virginica  virginica  virginica \n",
      "Levels: setosa versicolor virginica\n"
     ]
    },
    {
     "data": {
      "text/html": [
       "0.0444444444444444"
      ],
      "text/latex": [
       "0.0444444444444444"
      ],
      "text/markdown": [
       "0.0444444444444444"
      ],
      "text/plain": [
       "[1] 0.04444444"
      ]
     },
     "metadata": {},
     "output_type": "display_data"
    }
   ],
   "source": [
    "# Run knn with k = 1 and get misclassification rate\n",
    "predicted.species <- knn(train[1:4], test[1:4], train$Species, k = 1)\n",
    "print(predicted.species)\n",
    "mean(test$Species != predicted.species)\n"
   ]
  },
  {
   "cell_type": "code",
   "execution_count": 26,
   "metadata": {
    "vscode": {
     "languageId": "r"
    }
   },
   "outputs": [
    {
     "name": "stdout",
     "output_type": "stream",
     "text": [
      " [1] 0.04444444 0.02222222 0.02222222 0.02222222 0.02222222 0.02222222\n",
      " [7] 0.06666667 0.06666667 0.04444444 0.02222222\n"
     ]
    },
    {
     "data": {
      "image/png": "[encoded data removed]",
      "text/plain": [
       "plot without title"
      ]
     },
     "metadata": {
      "image/png": {
       "height": 420,
       "width": 420
      }
     },
     "output_type": "display_data"
    }
   ],
   "source": [
    "# Identify the best k and plot misclassification error\n",
    "k <- 1:10\n",
    "misclass <- rep(0, 10)\n",
    "for (i in 1:10) {\n",
    "    set.seed(101)\n",
    "    predicted.species <- knn(train[1:4], test[1:4], train$Species, k = i)\n",
    "    misclass[i] <- mean(test$Species != predicted.species)\n",
    "}\n",
    "print(misclass)\n",
    "\n",
    "ggplot(data = data.frame(k, misclass), aes(x = k, y = misclass)) +\n",
    "    geom_point() +\n",
    "    geom_line(lty = \"dashed\", color = \"red\")\n",
    "\n",
    "# Error is lowest between k = 2 to ~6"
   ]
  }
 ],
 "metadata": {
  "kernelspec": {
   "display_name": "R",
   "language": "R",
   "name": "ir"
  },
  "language_info": {
   "codemirror_mode": "r",
   "file_extension": ".r",
   "mimetype": "text/x-r-source",
   "name": "R",
   "pygments_lexer": "r",
   "version": "4.4.0"
  }
 },
 "nbformat": 4,
 "nbformat_minor": 2
}
