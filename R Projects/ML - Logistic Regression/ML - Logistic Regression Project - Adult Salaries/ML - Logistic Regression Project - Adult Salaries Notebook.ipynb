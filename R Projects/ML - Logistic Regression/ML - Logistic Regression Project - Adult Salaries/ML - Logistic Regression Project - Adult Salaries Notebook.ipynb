{
 "cells": [
  {
   "cell_type": "code",
   "execution_count": 1,
   "metadata": {
    "vscode": {
     "languageId": "r"
    }
   },
   "outputs": [
    {
     "name": "stderr",
     "output_type": "stream",
     "text": [
      "Warning message:\n",
      "\"package 'ggplot2' was built under R version 4.4.1\"\n",
      "Warning message:\n",
      "\"package 'dplyr' was built under R version 4.4.1\"\n",
      "\n",
      "Attaching package: 'dplyr'\n",
      "\n",
      "\n",
      "The following objects are masked from 'package:stats':\n",
      "\n",
      "    filter, lag\n",
      "\n",
      "\n",
      "The following objects are masked from 'package:base':\n",
      "\n",
      "    intersect, setdiff, setequal, union\n",
      "\n",
      "\n",
      "Warning message:\n",
      "\"package 'caTools' was built under R version 4.4.1\"\n",
      "Warning message:\n",
      "\"package 'Amelia' was built under R version 4.4.1\"\n",
      "Loading required package: Rcpp\n",
      "\n",
      "Warning message:\n",
      "\"package 'Rcpp' was built under R version 4.4.1\"\n",
      "## \n",
      "## Amelia II: Multiple Imputation\n",
      "## (Version 1.8.2, built: 2024-04-10)\n",
      "## Copyright (C) 2005-2024 James Honaker, Gary King and Matthew Blackwell\n",
      "## Refer to http://gking.harvard.edu/amelia/ for more information\n",
      "## \n",
      "\n",
      "Warning message:\n",
      "\"package 'pander' was built under R version 4.4.1\"\n",
      "Warning message:\n",
      "\"package 'reticulate' was built under R version 4.4.1\"\n"
     ]
    },
    {
     "name": "stdout",
     "output_type": "stream",
     "text": [
      "'data.frame':\t32561 obs. of  15 variables:\n",
      " $ age          : int  39 50 38 53 28 37 49 52 31 42 ...\n",
      " $ type_employer: chr  \"State-gov\" \"Self-emp-not-inc\" \"Private\" \"Private\" ...\n",
      " $ fnlwgt       : int  77516 83311 215646 234721 338409 284582 160187 209642 45781 159449 ...\n",
      " $ education    : chr  \"Bachelors\" \"Bachelors\" \"HS-grad\" \"11th\" ...\n",
      " $ education_num: int  13 13 9 7 13 14 5 9 14 13 ...\n",
      " $ marital      : chr  \"Never-married\" \"Married-civ-spouse\" \"Divorced\" \"Married-civ-spouse\" ...\n",
      " $ occupation   : chr  \"Adm-clerical\" \"Exec-managerial\" \"Handlers-cleaners\" \"Handlers-cleaners\" ...\n",
      " $ relationship : chr  \"Not-in-family\" \"Husband\" \"Not-in-family\" \"Husband\" ...\n",
      " $ race         : chr  \"White\" \"White\" \"White\" \"Black\" ...\n",
      " $ sex          : chr  \"Male\" \"Male\" \"Male\" \"Male\" ...\n",
      " $ capital_gain : int  2174 0 0 0 0 0 0 0 14084 5178 ...\n",
      " $ capital_loss : int  0 0 0 0 0 0 0 0 0 0 ...\n",
      " $ hr_per_week  : int  40 13 40 40 40 40 16 45 50 40 ...\n",
      " $ country      : chr  \"United-States\" \"United-States\" \"United-States\" \"United-States\" ...\n",
      " $ income       : chr  \"<=50K\" \"<=50K\" \"<=50K\" \"<=50K\" ...\n",
      "[1] \"Complete\"\n"
     ]
    }
   ],
   "source": [
    "# Importing the libraries\n",
    "library(ggplot2)\n",
    "library(dplyr)\n",
    "library(caTools)\n",
    "library(Amelia)\n",
    "library(pander)\n",
    "library(reticulate)\n",
    "\n",
    "# Import pandas\n",
    "pandas <- import(\"pandas\")\n",
    "\n",
    "# Set working directory\n",
    "#setwd(\"ML - Logistic Regression with R/ML - Logistic Regression Project\")\n",
    "\n",
    "# Read the CSV file\n",
    "adult <- read.csv(\"adult_sal.csv\")\n",
    "\n",
    "# Verify the data frame\n",
    "adult <- select(adult, -X)\n",
    "str(adult)\n",
    "print(\"Complete\")"
   ]
  },
  {
   "cell_type": "code",
   "execution_count": 2,
   "metadata": {
    "vscode": {
     "languageId": "r"
    }
   },
   "outputs": [
    {
     "data": {
      "text/plain": [
       "\n",
       "               ?      Federal-gov        Local-gov     Never-worked \n",
       "            1836              960             2093                7 \n",
       "         Private     Self-emp-inc Self-emp-not-inc        State-gov \n",
       "           22696             1116             2541             1298 \n",
       "     Without-pay \n",
       "              14 "
      ]
     },
     "metadata": {},
     "output_type": "display_data"
    },
    {
     "data": {
      "text/plain": [
       "      age        type_employer          fnlwgt         education        \n",
       " Min.   :17.00   Length:32561       Min.   :  12285   Length:32561      \n",
       " 1st Qu.:28.00   Class :character   1st Qu.: 117827   Class :character  \n",
       " Median :37.00   Mode  :character   Median : 178356   Mode  :character  \n",
       " Mean   :38.58                      Mean   : 189778                     \n",
       " 3rd Qu.:48.00                      3rd Qu.: 237051                     \n",
       " Max.   :90.00                      Max.   :1484705                     \n",
       " education_num     marital           occupation        relationship      \n",
       " Min.   : 1.00   Length:32561       Length:32561       Length:32561      \n",
       " 1st Qu.: 9.00   Class :character   Class :character   Class :character  \n",
       " Median :10.00   Mode  :character   Mode  :character   Mode  :character  \n",
       " Mean   :10.08                                                           \n",
       " 3rd Qu.:12.00                                                           \n",
       " Max.   :16.00                                                           \n",
       "     race               sex             capital_gain    capital_loss   \n",
       " Length:32561       Length:32561       Min.   :    0   Min.   :   0.0  \n",
       " Class :character   Class :character   1st Qu.:    0   1st Qu.:   0.0  \n",
       " Mode  :character   Mode  :character   Median :    0   Median :   0.0  \n",
       "                                       Mean   : 1078   Mean   :  87.3  \n",
       "                                       3rd Qu.:    0   3rd Qu.:   0.0  \n",
       "                                       Max.   :99999   Max.   :4356.0  \n",
       "  hr_per_week      country             income         \n",
       " Min.   : 1.00   Length:32561       Length:32561      \n",
       " 1st Qu.:40.00   Class :character   Class :character  \n",
       " Median :40.00   Mode  :character   Mode  :character  \n",
       " Mean   :40.44                                        \n",
       " 3rd Qu.:45.00                                        \n",
       " Max.   :99.00                                        "
      ]
     },
     "metadata": {},
     "output_type": "display_data"
    }
   ],
   "source": [
    "# Check for missing values\n",
    "table(adult$type_employer)\n",
    "summary(adult)"
   ]
  },
  {
   "cell_type": "code",
   "execution_count": 3,
   "metadata": {
    "vscode": {
     "languageId": "r"
    }
   },
   "outputs": [
    {
     "data": {
      "text/plain": [
       "\n",
       "               ?      Federal-gov        Local-gov     Never-worked \n",
       "            1836              960             2093                7 \n",
       "         Private     Self-emp-inc Self-emp-not-inc        State-gov \n",
       "           22696             1116             2541             1298 \n",
       "     Without-pay \n",
       "              14 "
      ]
     },
     "metadata": {},
     "output_type": "display_data"
    }
   ],
   "source": [
    "# Check for missing values\n",
    "table(adult$type_employer)\n"
   ]
  },
  {
   "cell_type": "code",
   "execution_count": 4,
   "metadata": {
    "vscode": {
     "languageId": "r"
    }
   },
   "outputs": [
    {
     "data": {
      "text/plain": [
       "\n",
       "               ?      Federal-gov        Local-gov          Private \n",
       "            1836              960             2093            22696 \n",
       "    Self-emp-inc Self-emp-not-inc        State-gov       Unemployed \n",
       "            1116             2541             1298               21 "
      ]
     },
     "metadata": {},
     "output_type": "display_data"
    }
   ],
   "source": [
    "# 1836 Null Values, never worked and without pay.\n",
    "# Replace with unemployed\n",
    "unemp <- function(job) {\n",
    "    job <- as.character(job)\n",
    "    if (job == \"Never-worked\" | job == \"Without-pay\") {\n",
    "        return(\"Unemployed\")\n",
    "    } else {\n",
    "        return(job)\n",
    "    }\n",
    "}\n",
    "adult$type_employer <- sapply(adult$type_employer, unemp)\n",
    "table(adult$type_employer)"
   ]
  },
  {
   "cell_type": "code",
   "execution_count": 5,
   "metadata": {
    "vscode": {
     "languageId": "r"
    }
   },
   "outputs": [
    {
     "data": {
      "text/plain": [
       "\n",
       "          ? Federal-gov     Private    self-emp      SL-gov  Unemployed \n",
       "       1836         960       22696        3657        3391          21 "
      ]
     },
     "metadata": {},
     "output_type": "display_data"
    }
   ],
   "source": [
    "# Group Local-gov, State-gov, Self-emp-inc, Self-emp-not-inc\n",
    "group_emp <- function(job) {\n",
    "    if (job == \"Local-gov\" | job == \"State-gov\") {\n",
    "        return(\"SL-gov\")\n",
    "    } else if (job == \"Self-emp-inc\" | job == \"Self-emp-not-inc\") {\n",
    "        return(\"self-emp\")\n",
    "    } else {\n",
    "        return(job)\n",
    "    }\n",
    "}\n",
    "adult$type_employer <- sapply(adult$type_employer, group_emp)\n",
    "table(adult$type_employer)"
   ]
  },
  {
   "cell_type": "code",
   "execution_count": 6,
   "metadata": {
    "vscode": {
     "languageId": "r"
    }
   },
   "outputs": [
    {
     "data": {
      "text/plain": [
       "\n",
       "             Divorced     Married-AF-spouse    Married-civ-spouse \n",
       "                 4443                    23                 14976 \n",
       "Married-spouse-absent         Never-married             Separated \n",
       "                  418                 10683                  1025 \n",
       "              Widowed \n",
       "                  993 "
      ]
     },
     "metadata": {},
     "output_type": "display_data"
    },
    {
     "data": {
      "text/plain": [
       "\n",
       "      Married Never-married   Not-Married \n",
       "        15417         10683          6461 "
      ]
     },
     "metadata": {},
     "output_type": "display_data"
    }
   ],
   "source": [
    "# Grouping the marital status\n",
    "table(adult$marital)\n",
    "group_marital <- function(mar) {\n",
    "    mar <- as.character(mar)\n",
    "\n",
    "    # Not-Married\n",
    "    if (mar == \"Separated\" | mar == \"Divorced\" | mar == \"Widowed\") {\n",
    "        return(\"Not-Married\")\n",
    "\n",
    "        # Never-Married\n",
    "    } else if (mar == \"Never-married\") {\n",
    "        return(mar)\n",
    "\n",
    "        # Married\n",
    "    } else {\n",
    "        return(\"Married\")\n",
    "    }\n",
    "}\n",
    "adult$marital <- sapply(adult$marital, group_marital)\n",
    "table(adult$marital)"
   ]
  },
  {
   "cell_type": "code",
   "execution_count": 7,
   "metadata": {
    "vscode": {
     "languageId": "r"
    }
   },
   "outputs": [
    {
     "data": {
      "text/plain": [
       "\n",
       "                         ?                   Cambodia \n",
       "                       583                         19 \n",
       "                    Canada                      China \n",
       "                       121                         75 \n",
       "                  Columbia                       Cuba \n",
       "                        59                         95 \n",
       "        Dominican-Republic                    Ecuador \n",
       "                        70                         28 \n",
       "               El-Salvador                    England \n",
       "                       106                         90 \n",
       "                    France                    Germany \n",
       "                        29                        137 \n",
       "                    Greece                  Guatemala \n",
       "                        29                         64 \n",
       "                     Haiti         Holand-Netherlands \n",
       "                        44                          1 \n",
       "                  Honduras                       Hong \n",
       "                        13                         20 \n",
       "                   Hungary                      India \n",
       "                        13                        100 \n",
       "                      Iran                    Ireland \n",
       "                        43                         24 \n",
       "                     Italy                    Jamaica \n",
       "                        73                         81 \n",
       "                     Japan                       Laos \n",
       "                        62                         18 \n",
       "                    Mexico                  Nicaragua \n",
       "                       643                         34 \n",
       "Outlying-US(Guam-USVI-etc)                       Peru \n",
       "                        14                         31 \n",
       "               Philippines                     Poland \n",
       "                       198                         60 \n",
       "                  Portugal                Puerto-Rico \n",
       "                        37                        114 \n",
       "                  Scotland                      South \n",
       "                        12                         80 \n",
       "                    Taiwan                   Thailand \n",
       "                        51                         18 \n",
       "           Trinadad&Tobago              United-States \n",
       "                        19                      29170 \n",
       "                   Vietnam                 Yugoslavia \n",
       "                        67                         16 "
      ]
     },
     "metadata": {},
     "output_type": "display_data"
    },
    {
     "data": {
      "text/plain": [
       "NULL"
      ]
     },
     "metadata": {},
     "output_type": "display_data"
    },
    {
     "data": {
      "text/plain": [
       "\n",
       "                   Asia                  Europe Latin.and.South.America \n",
       "                    671                     521                    1301 \n",
       "          North.America                   Other \n",
       "                  29405                     663 "
      ]
     },
     "metadata": {},
     "output_type": "display_data"
    }
   ],
   "source": [
    "# Screen country\n",
    "table(adult$country)\n",
    "\n",
    "# Grouping countrys\n",
    "levels(adult$country)\n",
    "\n",
    "Asia <- c(\n",
    "    \"China\", \"Hong\", \"India\", \"Iran\", \"Cambodia\", \"Japan\", \"Laos\",\n",
    "    \"Philippines\", \"Vietnam\", \"Taiwan\", \"Thailand\"\n",
    ")\n",
    "\n",
    "North.America <- c(\"Canada\", \"United-States\", \"Puerto-Rico\")\n",
    "\n",
    "Europe <- c(\n",
    "    \"England\", \"France\", \"Germany\", \"Greece\", \"Holand-Netherlands\", \"Hungary\",\n",
    "    \"Ireland\", \"Italy\", \"Poland\", \"Portugal\", \"Scotland\", \"Yugoslavia\"\n",
    ")\n",
    "\n",
    "Latin.and.South.America <- c(\n",
    "    \"Columbia\", \"Cuba\", \"Dominican-Republic\", \"Ecuador\",\n",
    "    \"El-Salvador\", \"Guatemala\", \"Haiti\", \"Honduras\",\n",
    "    \"Mexico\", \"Nicaragua\", \"Outlying-US(Guam-USVI-etc)\", \"Peru\",\n",
    "    \"Jamaica\", \"Trinadad&Tobago\"\n",
    ")\n",
    "Other <- c(\"South\")\n",
    "\n",
    "group_country <- function(ctry) {\n",
    "    if (ctry %in% Asia) {\n",
    "        return(\"Asia\")\n",
    "    } else if (ctry %in% North.America) {\n",
    "        return(\"North.America\")\n",
    "    } else if (ctry %in% Europe) {\n",
    "        return(\"Europe\")\n",
    "    } else if (ctry %in% Latin.and.South.America) {\n",
    "        return(\"Latin.and.South.America\")\n",
    "    } else {\n",
    "        return(\"Other\")\n",
    "    }\n",
    "}\n",
    "\n",
    "# Apply the function\n",
    "adult$country <- sapply(adult$country, group_country)\n",
    "\n",
    "# screen results\n",
    "table(adult$country)"
   ]
  },
  {
   "cell_type": "code",
   "execution_count": 8,
   "metadata": {
    "vscode": {
     "languageId": "r"
    }
   },
   "outputs": [
    {
     "name": "stdout",
     "output_type": "stream",
     "text": [
      "'data.frame':\t32561 obs. of  15 variables:\n",
      " $ age          : int  39 50 38 53 28 37 49 52 31 42 ...\n",
      " $ type_employer: Factor w/ 6 levels \"SL-gov\",\"self-emp\",..: 1 2 3 3 3 3 3 2 3 3 ...\n",
      " $ fnlwgt       : int  77516 83311 215646 234721 338409 284582 160187 209642 45781 159449 ...\n",
      " $ education    : Factor w/ 16 levels \"Bachelors\",\"HS-grad\",..: 1 1 2 3 1 4 5 2 4 1 ...\n",
      " $ education_num: int  13 13 9 7 13 14 5 9 14 13 ...\n",
      " $ marital      : Factor w/ 3 levels \"Never-married\",..: 1 2 3 2 2 2 2 2 1 2 ...\n",
      " $ occupation   : Factor w/ 15 levels \"Adm-clerical\",..: 1 2 3 3 4 2 5 2 4 2 ...\n",
      " $ relationship : Factor w/ 6 levels \"Not-in-family\",..: 1 2 1 2 3 3 1 2 1 2 ...\n",
      " $ race         : Factor w/ 5 levels \"White\",\"Black\",..: 1 1 1 2 2 1 2 1 1 1 ...\n",
      " $ sex          : Factor w/ 2 levels \"Male\",\"Female\": 1 1 1 1 2 2 2 1 2 1 ...\n",
      " $ capital_gain : int  2174 0 0 0 0 0 0 0 14084 5178 ...\n",
      " $ capital_loss : int  0 0 0 0 0 0 0 0 0 0 ...\n",
      " $ hr_per_week  : int  40 13 40 40 40 40 16 45 50 40 ...\n",
      " $ country      : Factor w/ 5 levels \"North.America\",..: 1 1 1 1 2 1 2 1 1 1 ...\n",
      " $ income       : Factor w/ 2 levels \"<=50K\",\">50K\": 1 1 1 1 1 1 1 2 2 2 ...\n"
     ]
    },
    {
     "data": {
      "text/plain": [
       "      age            type_employer       fnlwgt               education    \n",
       " Min.   :17.00   SL-gov     : 3391   Min.   :  12285   HS-grad     :10501  \n",
       " 1st Qu.:28.00   self-emp   : 3657   1st Qu.: 117827   Some-college: 7291  \n",
       " Median :37.00   Private    :22696   Median : 178356   Bachelors   : 5355  \n",
       " Mean   :38.58   Federal-gov:  960   Mean   : 189778   Masters     : 1723  \n",
       " 3rd Qu.:48.00   ?          : 1836   3rd Qu.: 237051   Assoc-voc   : 1382  \n",
       " Max.   :90.00   Unemployed :   21   Max.   :1484705   11th        : 1175  \n",
       "                                                       (Other)     : 5134  \n",
       " education_num            marital                occupation  \n",
       " Min.   : 1.00   Never-married:10683   Prof-specialty :4140  \n",
       " 1st Qu.: 9.00   Married      :15417   Craft-repair   :4099  \n",
       " Median :10.00   Not-Married  : 6461   Exec-managerial:4066  \n",
       " Mean   :10.08                         Adm-clerical   :3770  \n",
       " 3rd Qu.:12.00                         Sales          :3650  \n",
       " Max.   :16.00                         Other-service  :3295  \n",
       "                                       (Other)        :9541  \n",
       "         relationship                   race           sex       \n",
       " Not-in-family : 8305   White             :27816   Male  :21790  \n",
       " Husband       :13193   Black             : 3124   Female:10771  \n",
       " Wife          : 1568   Asian-Pac-Islander: 1039                 \n",
       " Own-child     : 5068   Amer-Indian-Eskimo:  311                 \n",
       " Unmarried     : 3446   Other             :  271                 \n",
       " Other-relative:  981                                            \n",
       "                                                                 \n",
       "  capital_gain    capital_loss     hr_per_week   \n",
       " Min.   :    0   Min.   :   0.0   Min.   : 1.00  \n",
       " 1st Qu.:    0   1st Qu.:   0.0   1st Qu.:40.00  \n",
       " Median :    0   Median :   0.0   Median :40.00  \n",
       " Mean   : 1078   Mean   :  87.3   Mean   :40.44  \n",
       " 3rd Qu.:    0   3rd Qu.:   0.0   3rd Qu.:45.00  \n",
       " Max.   :99999   Max.   :4356.0   Max.   :99.00  \n",
       "                                                 \n",
       "                    country        income     \n",
       " North.America          :29405   <=50K:24720  \n",
       " Latin.and.South.America: 1301   >50K : 7841  \n",
       " Asia                   :  671                \n",
       " Other                  :  663                \n",
       " Europe                 :  521                \n",
       "                                              \n",
       "                                              "
      ]
     },
     "metadata": {},
     "output_type": "display_data"
    }
   ],
   "source": [
    "# Factorise the dataset\n",
    "adult$type_employer <- sapply(adult$type_employer, factor)\n",
    "adult$country <- sapply(adult$country, factor)\n",
    "adult$marital <- sapply(adult$marital, factor)\n",
    "adult$income <- sapply(adult$income, factor)\n",
    "adult$education <- sapply(adult$education, factor)\n",
    "adult$occupation <- sapply(adult$occupation, factor)\n",
    "adult$relationship <- sapply(adult$relationship, factor)\n",
    "adult$race <- sapply(adult$race, factor)\n",
    "adult$sex <- sapply(adult$sex, factor)\n",
    "str(adult)\n",
    "summary(adult)"
   ]
  },
  {
   "cell_type": "code",
   "execution_count": 9,
   "metadata": {
    "vscode": {
     "languageId": "r"
    }
   },
   "outputs": [
    {
     "data": {
      "text/plain": [
       "      age            type_employer       fnlwgt               education    \n",
       " Min.   :17.00   SL-gov     : 3391   Min.   :  12285   HS-grad     :10501  \n",
       " 1st Qu.:28.00   self-emp   : 3657   1st Qu.: 117827   Some-college: 7291  \n",
       " Median :37.00   Private    :22696   Median : 178356   Bachelors   : 5355  \n",
       " Mean   :38.58   Federal-gov:  960   Mean   : 189778   Masters     : 1723  \n",
       " 3rd Qu.:48.00   ?          :    0   3rd Qu.: 237051   Assoc-voc   : 1382  \n",
       " Max.   :90.00   Unemployed :   21   Max.   :1484705   11th        : 1175  \n",
       "                 NA's       : 1836                     (Other)     : 5134  \n",
       " education_num            marital                occupation   \n",
       " Min.   : 1.00   Never-married:10683   Prof-specialty : 4140  \n",
       " 1st Qu.: 9.00   Married      :15417   Craft-repair   : 4099  \n",
       " Median :10.00   Not-Married  : 6461   Exec-managerial: 4066  \n",
       " Mean   :10.08                         Adm-clerical   : 3770  \n",
       " 3rd Qu.:12.00                         Sales          : 3650  \n",
       " Max.   :16.00                         (Other)        :10993  \n",
       "                                       NA's           : 1843  \n",
       "         relationship                   race           sex       \n",
       " Not-in-family : 8305   White             :27816   Male  :21790  \n",
       " Husband       :13193   Black             : 3124   Female:10771  \n",
       " Wife          : 1568   Asian-Pac-Islander: 1039                 \n",
       " Own-child     : 5068   Amer-Indian-Eskimo:  311                 \n",
       " Unmarried     : 3446   Other             :  271                 \n",
       " Other-relative:  981                                            \n",
       "                                                                 \n",
       "  capital_gain    capital_loss     hr_per_week   \n",
       " Min.   :    0   Min.   :   0.0   Min.   : 1.00  \n",
       " 1st Qu.:    0   1st Qu.:   0.0   1st Qu.:40.00  \n",
       " Median :    0   Median :   0.0   Median :40.00  \n",
       " Mean   : 1078   Mean   :  87.3   Mean   :40.44  \n",
       " 3rd Qu.:    0   3rd Qu.:   0.0   3rd Qu.:45.00  \n",
       " Max.   :99999   Max.   :4356.0   Max.   :99.00  \n",
       "                                                 \n",
       "                    country        income     \n",
       " North.America          :29405   <=50K:24720  \n",
       " Latin.and.South.America: 1301   >50K : 7841  \n",
       " Asia                   :  671                \n",
       " Other                  :  663                \n",
       " Europe                 :  521                \n",
       "                                              \n",
       "                                              "
      ]
     },
     "metadata": {},
     "output_type": "display_data"
    },
    {
     "data": {
      "text/plain": [
       "\n",
       "     SL-gov    self-emp     Private Federal-gov           ?  Unemployed \n",
       "       3391        3657       22696         960           0          21 "
      ]
     },
     "metadata": {},
     "output_type": "display_data"
    }
   ],
   "source": [
    "# assess factors in dataset and convert ? to NA in type_employer\n",
    "adult[adult == \"?\"] <- NA\n",
    "summary(adult)\n",
    "table(adult$type_employer)"
   ]
  },
  {
   "cell_type": "code",
   "execution_count": 10,
   "metadata": {
    "vscode": {
     "languageId": "r"
    }
   },
   "outputs": [
    {
     "data": {
      "image/png": "[encoded data removed]",
      "text/plain": [
       "Plot with title \"Missingness Map\""
      ]
     },
     "metadata": {
      "image/png": {
       "height": 420,
       "width": 420
      }
     },
     "output_type": "display_data"
    }
   ],
   "source": [
    "# use missmap to check missing values\n",
    "missmap(adult, y.at = c(1), y.labels = c(\"\"), col = c(\"yellow\", \"black\"))"
   ]
  },
  {
   "cell_type": "code",
   "execution_count": 11,
   "metadata": {
    "vscode": {
     "languageId": "r"
    }
   },
   "outputs": [
    {
     "data": {
      "image/png": "[encoded data removed]",
      "text/plain": [
       "Plot with title \"Missingness Map\""
      ]
     },
     "metadata": {
      "image/png": {
       "height": 420,
       "width": 420
      }
     },
     "output_type": "display_data"
    }
   ],
   "source": [
    "# Remove observations with missing values\n",
    "adult <- na.omit(adult)\n",
    "missmap(adult, y.at = c(1), y.labels = c(\"\"), col = c(\"yellow\", \"black\"))"
   ]
  },
  {
   "cell_type": "code",
   "execution_count": 12,
   "metadata": {
    "vscode": {
     "languageId": "r"
    }
   },
   "outputs": [
    {
     "data": {
      "image/png": "[encoded data removed]",
      "text/plain": [
       "plot without title"
      ]
     },
     "metadata": {
      "image/png": {
       "height": 420,
       "width": 420
      }
     },
     "output_type": "display_data"
    }
   ],
   "source": [
    "# Create a histogram of age, with income as the fill color\n",
    "ggplot(adult, aes(age)) +\n",
    "    geom_histogram(aes(fill = income), color = \"black\", binwidth = 1) +\n",
    "    theme_bw()"
   ]
  },
  {
   "cell_type": "code",
   "execution_count": 13,
   "metadata": {
    "vscode": {
     "languageId": "r"
    }
   },
   "outputs": [
    {
     "name": "stderr",
     "output_type": "stream",
     "text": [
      "\u001b[1m\u001b[22m`stat_bin()` using `bins = 30`. Pick better value with `binwidth`.\n"
     ]
    },
    {
     "data": {
      "image/png": "[encoded data removed]",
      "text/plain": [
       "plot without title"
      ]
     },
     "metadata": {
      "image/png": {
       "height": 420,
       "width": 420
      }
     },
     "output_type": "display_data"
    }
   ],
   "source": [
    "# Create a histogram of hours per week, with income as the fill color\n",
    "ggplot(adult, aes(hr_per_week)) +\n",
    "    geom_histogram() +\n",
    "    theme_bw()"
   ]
  },
  {
   "cell_type": "code",
   "execution_count": 15,
   "metadata": {
    "vscode": {
     "languageId": "r"
    }
   },
   "outputs": [
    {
     "name": "stdout",
     "output_type": "stream",
     "text": [
      "'data.frame':\t30718 obs. of  15 variables:\n",
      " $ age          : int  39 50 38 53 28 37 49 52 31 42 ...\n",
      " $ type_employer: Factor w/ 6 levels \"SL-gov\",\"self-emp\",..: 1 2 3 3 3 3 3 2 3 3 ...\n",
      " $ fnlwgt       : int  77516 83311 215646 234721 338409 284582 160187 209642 45781 159449 ...\n",
      " $ education    : Factor w/ 16 levels \"Bachelors\",\"HS-grad\",..: 1 1 2 3 1 4 5 2 4 1 ...\n",
      " $ education_num: int  13 13 9 7 13 14 5 9 14 13 ...\n",
      " $ marital      : Factor w/ 3 levels \"Never-married\",..: 1 2 3 2 2 2 2 2 1 2 ...\n",
      " $ occupation   : Factor w/ 15 levels \"Adm-clerical\",..: 1 2 3 3 4 2 5 2 4 2 ...\n",
      " $ relationship : Factor w/ 6 levels \"Not-in-family\",..: 1 2 1 2 3 3 1 2 1 2 ...\n",
      " $ race         : Factor w/ 5 levels \"White\",\"Black\",..: 1 1 1 2 2 1 2 1 1 1 ...\n",
      " $ sex          : Factor w/ 2 levels \"Male\",\"Female\": 1 1 1 1 2 2 2 1 2 1 ...\n",
      " $ capital_gain : int  2174 0 0 0 0 0 0 0 14084 5178 ...\n",
      " $ capital_loss : int  0 0 0 0 0 0 0 0 0 0 ...\n",
      " $ hr_per_week  : int  40 13 40 40 40 40 16 45 50 40 ...\n",
      " $ region       : Factor w/ 5 levels \"North.America\",..: 1 1 1 1 2 1 2 1 1 1 ...\n",
      " $ income       : Factor w/ 2 levels \"<=50K\",\">50K\": 1 1 1 1 1 1 1 2 2 2 ...\n",
      " - attr(*, \"na.action\")= 'omit' Named int [1:1843] 28 62 70 78 107 129 150 155 161 188 ...\n",
      "  ..- attr(*, \"names\")= chr [1:1843] \"28\" \"62\" \"70\" \"78\" ...\n"
     ]
    }
   ],
   "source": [
    "# Rename country to region\n",
    "names(adult)[names(adult) == \"country\"] <- \"region\"\n",
    "str(adult)"
   ]
  },
  {
   "cell_type": "code",
   "execution_count": 16,
   "metadata": {
    "vscode": {
     "languageId": "r"
    }
   },
   "outputs": [
    {
     "data": {
      "image/png": "[encoded data removed]",
      "text/plain": [
       "plot without title"
      ]
     },
     "metadata": {
      "image/png": {
       "height": 420,
       "width": 420
      }
     },
     "output_type": "display_data"
    }
   ],
   "source": [
    "# Plot region vs. income\n",
    "ggplot(adult, aes(region)) +\n",
    "    geom_bar(aes(fill = income), color = \"black\") +\n",
    "    theme_bw() +\n",
    "    theme(axis.text.x = element_text(angle = 90, hjust = 1))"
   ]
  },
  {
   "cell_type": "code",
   "execution_count": 19,
   "metadata": {
    "vscode": {
     "languageId": "r"
    }
   },
   "outputs": [],
   "source": [
    "# Set seed\n",
    "set.seed(101)\n",
    "\n",
    "# Split data into training and testing, 70/30\n",
    "sample <- sample.split(adult$income, SplitRatio = 0.70) # SplitRatio = percent of sample==TRUE\n",
    "\n",
    "# Training Data\n",
    "train <- subset(adult, sample == TRUE)\n",
    "\n",
    "# Testing Data\n",
    "test = subset(adult, sample == FALSE)"
   ]
  },
  {
   "cell_type": "code",
   "execution_count": 21,
   "metadata": {
    "vscode": {
     "languageId": "r"
    }
   },
   "outputs": [
    {
     "name": "stderr",
     "output_type": "stream",
     "text": [
      "Warning message:\n",
      "\"glm.fit: fitted probabilities numerically 0 or 1 occurred\"\n"
     ]
    },
    {
     "data": {
      "text/plain": [
       "\n",
       "Call:\n",
       "glm(formula = income ~ ., family = binomial(logit), data = train)\n",
       "\n",
       "Coefficients: (1 not defined because of singularities)\n",
       "                                Estimate Std. Error z value Pr(>|z|)    \n",
       "(Intercept)                   -4.682e+00  1.829e-01 -25.599  < 2e-16 ***\n",
       "age                            2.534e-02  2.007e-03  12.627  < 2e-16 ***\n",
       "type_employerself-emp          7.501e-03  8.999e-02   0.083 0.933571    \n",
       "type_employerPrivate           2.371e-01  7.321e-02   3.239 0.001198 ** \n",
       "type_employerFederal-gov       6.835e-01  1.266e-01   5.399 6.71e-08 ***\n",
       "type_employerUnemployed       -1.346e+01  3.688e+02  -0.036 0.970888    \n",
       "fnlwgt                         5.424e-07  2.085e-07   2.601 0.009291 ** \n",
       "educationHS-grad              -1.167e+00  6.599e-02 -17.683  < 2e-16 ***\n",
       "education11th                 -1.793e+00  1.876e-01  -9.561  < 2e-16 ***\n",
       "educationMasters               3.441e-01  9.217e-02   3.734 0.000189 ***\n",
       "education9th                  -2.015e+00  2.673e-01  -7.539 4.73e-14 ***\n",
       "educationSome-college         -7.997e-01  6.727e-02 -11.888  < 2e-16 ***\n",
       "educationAssoc-acdm           -7.527e-01  1.188e-01  -6.337 2.35e-10 ***\n",
       "educationAssoc-voc            -5.504e-01  1.056e-01  -5.211 1.88e-07 ***\n",
       "education7th-8th              -2.502e+00  2.292e-01 -10.914  < 2e-16 ***\n",
       "educationDoctorate             8.707e-01  1.862e-01   4.677 2.91e-06 ***\n",
       "educationProf-school           7.946e-01  1.620e-01   4.904 9.41e-07 ***\n",
       "education5th-6th              -2.083e+00  3.581e-01  -5.817 6.01e-09 ***\n",
       "education10th                 -2.003e+00  1.938e-01 -10.337  < 2e-16 ***\n",
       "education1st-4th              -2.462e+00  5.813e-01  -4.235 2.29e-05 ***\n",
       "educationPreschool            -2.079e+01  1.645e+02  -0.126 0.899407    \n",
       "education12th                 -1.610e+00  2.915e-01  -5.524 3.32e-08 ***\n",
       "education_num                         NA         NA      NA       NA    \n",
       "maritalMarried                 1.280e+00  1.943e-01   6.588 4.45e-11 ***\n",
       "maritalNot-Married             5.435e-01  9.953e-02   5.460 4.75e-08 ***\n",
       "occupationExec-managerial      7.689e-01  9.095e-02   8.453  < 2e-16 ***\n",
       "occupationHandlers-cleaners   -7.944e-01  1.726e-01  -4.603 4.17e-06 ***\n",
       "occupationProf-specialty       4.957e-01  9.626e-02   5.149 2.62e-07 ***\n",
       "occupationOther-service       -8.248e-01  1.386e-01  -5.952 2.65e-09 ***\n",
       "occupationSales                2.896e-01  9.749e-02   2.971 0.002972 ** \n",
       "occupationCraft-repair         4.151e-02  9.483e-02   0.438 0.661616    \n",
       "occupationTransport-moving    -1.114e-01  1.189e-01  -0.937 0.348928    \n",
       "occupationFarming-fishing     -1.120e+00  1.619e-01  -6.920 4.52e-12 ***\n",
       "occupationMachine-op-inspct   -2.194e-01  1.203e-01  -1.824 0.068080 .  \n",
       "occupationTech-support         6.829e-01  1.325e-01   5.153 2.56e-07 ***\n",
       "occupationProtective-serv      6.029e-01  1.491e-01   4.044 5.24e-05 ***\n",
       "occupationArmed-Forces        -6.252e-01  1.844e+00  -0.339 0.734504    \n",
       "occupationPriv-house-serv     -3.600e+00  1.938e+00  -1.858 0.063179 .  \n",
       "relationshipHusband            8.661e-01  1.907e-01   4.541 5.60e-06 ***\n",
       "relationshipWife               2.342e+00  2.124e-01  11.026  < 2e-16 ***\n",
       "relationshipOwn-child         -9.310e-01  1.674e-01  -5.563 2.65e-08 ***\n",
       "relationshipUnmarried         -1.645e-01  1.202e-01  -1.368 0.171163    \n",
       "relationshipOther-relative    -2.204e-01  2.370e-01  -0.930 0.352454    \n",
       "raceBlack                     -2.068e-01  9.166e-02  -2.256 0.024091 *  \n",
       "raceAsian-Pac-Islander        -5.225e-02  1.755e-01  -0.298 0.765906    \n",
       "raceAmer-Indian-Eskimo        -6.595e-01  2.711e-01  -2.432 0.014997 *  \n",
       "raceOther                     -6.182e-01  3.251e-01  -1.901 0.057246 .  \n",
       "sexFemale                     -8.855e-01  9.378e-02  -9.442  < 2e-16 ***\n",
       "capital_gain                   3.192e-04  1.273e-05  25.076  < 2e-16 ***\n",
       "capital_loss                   6.549e-04  4.561e-05  14.358  < 2e-16 ***\n",
       "hr_per_week                    2.906e-02  1.987e-03  14.623  < 2e-16 ***\n",
       "regionLatin.and.South.America -5.925e-01  1.595e-01  -3.714 0.000204 ***\n",
       "regionAsia                    -6.475e-02  2.044e-01  -0.317 0.751446    \n",
       "regionOther                   -4.300e-01  1.651e-01  -2.604 0.009206 ** \n",
       "regionEurope                   4.404e-02  1.552e-01   0.284 0.776660    \n",
       "---\n",
       "Signif. codes:  0 '***' 0.001 '**' 0.01 '*' 0.05 '.' 0.1 ' ' 1\n",
       "\n",
       "(Dispersion parameter for binomial family taken to be 1)\n",
       "\n",
       "    Null deviance: 24138  on 21502  degrees of freedom\n",
       "Residual deviance: 14004  on 21449  degrees of freedom\n",
       "AIC: 14112\n",
       "\n",
       "Number of Fisher Scoring iterations: 14\n"
      ]
     },
     "metadata": {},
     "output_type": "display_data"
    }
   ],
   "source": [
    "# train model glm() model\n",
    "model = glm(income ~ ., family = binomial(logit), data = train)\n",
    "summary(model)"
   ]
  },
  {
   "cell_type": "code",
   "execution_count": 22,
   "metadata": {
    "vscode": {
     "languageId": "r"
    }
   },
   "outputs": [
    {
     "name": "stdout",
     "output_type": "stream",
     "text": [
      "Start:  AIC=14112.05\n",
      "income ~ age + type_employer + fnlwgt + education + education_num + \n",
      "    marital + occupation + relationship + race + sex + capital_gain + \n",
      "    capital_loss + hr_per_week + region\n",
      "\n"
     ]
    },
    {
     "name": "stderr",
     "output_type": "stream",
     "text": [
      "Warning message:\n",
      "\"glm.fit: fitted probabilities numerically 0 or 1 occurred\"\n",
      "Warning message:\n",
      "\"glm.fit: fitted probabilities numerically 0 or 1 occurred\"\n",
      "Warning message:\n",
      "\"glm.fit: fitted probabilities numerically 0 or 1 occurred\"\n",
      "Warning message:\n",
      "\"glm.fit: fitted probabilities numerically 0 or 1 occurred\"\n",
      "Warning message:\n",
      "\"glm.fit: fitted probabilities numerically 0 or 1 occurred\"\n",
      "Warning message:\n",
      "\"glm.fit: fitted probabilities numerically 0 or 1 occurred\"\n",
      "Warning message:\n",
      "\"glm.fit: fitted probabilities numerically 0 or 1 occurred\"\n",
      "Warning message:\n",
      "\"glm.fit: fitted probabilities numerically 0 or 1 occurred\"\n",
      "Warning message:\n",
      "\"glm.fit: fitted probabilities numerically 0 or 1 occurred\"\n",
      "Warning message:\n",
      "\"glm.fit: fitted probabilities numerically 0 or 1 occurred\"\n",
      "Warning message:\n",
      "\"glm.fit: fitted probabilities numerically 0 or 1 occurred\"\n",
      "Warning message:\n",
      "\"glm.fit: fitted probabilities numerically 0 or 1 occurred\"\n",
      "Warning message:\n",
      "\"glm.fit: fitted probabilities numerically 0 or 1 occurred\"\n",
      "Warning message:\n",
      "\"glm.fit: fitted probabilities numerically 0 or 1 occurred\"\n"
     ]
    },
    {
     "name": "stdout",
     "output_type": "stream",
     "text": [
      "\n",
      "Step:  AIC=14112.05\n",
      "income ~ age + type_employer + fnlwgt + education + marital + \n",
      "    occupation + relationship + race + sex + capital_gain + capital_loss + \n",
      "    hr_per_week + region\n",
      "\n"
     ]
    },
    {
     "name": "stderr",
     "output_type": "stream",
     "text": [
      "Warning message:\n",
      "\"glm.fit: fitted probabilities numerically 0 or 1 occurred\"\n",
      "Warning message:\n",
      "\"glm.fit: fitted probabilities numerically 0 or 1 occurred\"\n",
      "Warning message:\n",
      "\"glm.fit: fitted probabilities numerically 0 or 1 occurred\"\n",
      "Warning message:\n",
      "\"glm.fit: fitted probabilities numerically 0 or 1 occurred\"\n",
      "Warning message:\n",
      "\"glm.fit: fitted probabilities numerically 0 or 1 occurred\"\n",
      "Warning message:\n",
      "\"glm.fit: fitted probabilities numerically 0 or 1 occurred\"\n",
      "Warning message:\n",
      "\"glm.fit: fitted probabilities numerically 0 or 1 occurred\"\n",
      "Warning message:\n",
      "\"glm.fit: fitted probabilities numerically 0 or 1 occurred\"\n",
      "Warning message:\n",
      "\"glm.fit: fitted probabilities numerically 0 or 1 occurred\"\n",
      "Warning message:\n",
      "\"glm.fit: fitted probabilities numerically 0 or 1 occurred\"\n",
      "Warning message:\n",
      "\"glm.fit: fitted probabilities numerically 0 or 1 occurred\"\n",
      "Warning message:\n",
      "\"glm.fit: fitted probabilities numerically 0 or 1 occurred\"\n"
     ]
    },
    {
     "name": "stdout",
     "output_type": "stream",
     "text": [
      "                Df Deviance   AIC\n",
      "<none>                14004 14112\n",
      "- fnlwgt         1    14011 14117\n",
      "- race           4    14019 14119\n",
      "- region         4    14026 14126\n",
      "- type_employer  4    14050 14150\n",
      "- marital        2    14060 14164\n",
      "- sex            1    14097 14203\n",
      "- age            1    14165 14271\n",
      "- capital_loss   1    14217 14323\n",
      "- hr_per_week    1    14222 14328\n",
      "- relationship   5    14288 14386\n",
      "- occupation    13    14444 14526\n",
      "- education     15    14718 14796\n",
      "- capital_gain   1    15248 15354\n"
     ]
    }
   ],
   "source": [
    "# Use step function to create a new model\n",
    "new.step.model <- step(model)"
   ]
  },
  {
   "cell_type": "code",
   "execution_count": 23,
   "metadata": {
    "vscode": {
     "languageId": "r"
    }
   },
   "outputs": [
    {
     "data": {
      "text/plain": [
       "\n",
       "Call:\n",
       "glm(formula = income ~ age + type_employer + fnlwgt + education + \n",
       "    marital + occupation + relationship + race + sex + capital_gain + \n",
       "    capital_loss + hr_per_week + region, family = binomial(logit), \n",
       "    data = train)\n",
       "\n",
       "Coefficients:\n",
       "                                Estimate Std. Error z value Pr(>|z|)    \n",
       "(Intercept)                   -4.682e+00  1.829e-01 -25.599  < 2e-16 ***\n",
       "age                            2.534e-02  2.007e-03  12.627  < 2e-16 ***\n",
       "type_employerself-emp          7.501e-03  8.999e-02   0.083 0.933571    \n",
       "type_employerPrivate           2.371e-01  7.321e-02   3.239 0.001198 ** \n",
       "type_employerFederal-gov       6.835e-01  1.266e-01   5.399 6.71e-08 ***\n",
       "type_employerUnemployed       -1.346e+01  3.688e+02  -0.036 0.970888    \n",
       "fnlwgt                         5.424e-07  2.085e-07   2.601 0.009291 ** \n",
       "educationHS-grad              -1.167e+00  6.599e-02 -17.683  < 2e-16 ***\n",
       "education11th                 -1.793e+00  1.876e-01  -9.561  < 2e-16 ***\n",
       "educationMasters               3.441e-01  9.217e-02   3.734 0.000189 ***\n",
       "education9th                  -2.015e+00  2.673e-01  -7.539 4.73e-14 ***\n",
       "educationSome-college         -7.997e-01  6.727e-02 -11.888  < 2e-16 ***\n",
       "educationAssoc-acdm           -7.527e-01  1.188e-01  -6.337 2.35e-10 ***\n",
       "educationAssoc-voc            -5.504e-01  1.056e-01  -5.211 1.88e-07 ***\n",
       "education7th-8th              -2.502e+00  2.292e-01 -10.914  < 2e-16 ***\n",
       "educationDoctorate             8.707e-01  1.862e-01   4.677 2.91e-06 ***\n",
       "educationProf-school           7.946e-01  1.620e-01   4.904 9.41e-07 ***\n",
       "education5th-6th              -2.083e+00  3.581e-01  -5.817 6.01e-09 ***\n",
       "education10th                 -2.003e+00  1.938e-01 -10.337  < 2e-16 ***\n",
       "education1st-4th              -2.462e+00  5.813e-01  -4.235 2.29e-05 ***\n",
       "educationPreschool            -2.079e+01  1.645e+02  -0.126 0.899407    \n",
       "education12th                 -1.610e+00  2.915e-01  -5.524 3.32e-08 ***\n",
       "maritalMarried                 1.280e+00  1.943e-01   6.588 4.45e-11 ***\n",
       "maritalNot-Married             5.435e-01  9.953e-02   5.460 4.75e-08 ***\n",
       "occupationExec-managerial      7.689e-01  9.095e-02   8.453  < 2e-16 ***\n",
       "occupationHandlers-cleaners   -7.944e-01  1.726e-01  -4.603 4.17e-06 ***\n",
       "occupationProf-specialty       4.957e-01  9.626e-02   5.149 2.62e-07 ***\n",
       "occupationOther-service       -8.248e-01  1.386e-01  -5.952 2.65e-09 ***\n",
       "occupationSales                2.896e-01  9.749e-02   2.971 0.002972 ** \n",
       "occupationCraft-repair         4.151e-02  9.483e-02   0.438 0.661616    \n",
       "occupationTransport-moving    -1.114e-01  1.189e-01  -0.937 0.348928    \n",
       "occupationFarming-fishing     -1.120e+00  1.619e-01  -6.920 4.52e-12 ***\n",
       "occupationMachine-op-inspct   -2.194e-01  1.203e-01  -1.824 0.068080 .  \n",
       "occupationTech-support         6.829e-01  1.325e-01   5.153 2.56e-07 ***\n",
       "occupationProtective-serv      6.029e-01  1.491e-01   4.044 5.24e-05 ***\n",
       "occupationArmed-Forces        -6.252e-01  1.844e+00  -0.339 0.734504    \n",
       "occupationPriv-house-serv     -3.600e+00  1.938e+00  -1.858 0.063179 .  \n",
       "relationshipHusband            8.661e-01  1.907e-01   4.541 5.60e-06 ***\n",
       "relationshipWife               2.342e+00  2.124e-01  11.026  < 2e-16 ***\n",
       "relationshipOwn-child         -9.310e-01  1.674e-01  -5.563 2.65e-08 ***\n",
       "relationshipUnmarried         -1.645e-01  1.202e-01  -1.368 0.171163    \n",
       "relationshipOther-relative    -2.204e-01  2.370e-01  -0.930 0.352454    \n",
       "raceBlack                     -2.068e-01  9.166e-02  -2.256 0.024091 *  \n",
       "raceAsian-Pac-Islander        -5.225e-02  1.755e-01  -0.298 0.765906    \n",
       "raceAmer-Indian-Eskimo        -6.595e-01  2.711e-01  -2.432 0.014997 *  \n",
       "raceOther                     -6.182e-01  3.251e-01  -1.901 0.057246 .  \n",
       "sexFemale                     -8.855e-01  9.378e-02  -9.442  < 2e-16 ***\n",
       "capital_gain                   3.192e-04  1.273e-05  25.076  < 2e-16 ***\n",
       "capital_loss                   6.549e-04  4.561e-05  14.358  < 2e-16 ***\n",
       "hr_per_week                    2.906e-02  1.987e-03  14.623  < 2e-16 ***\n",
       "regionLatin.and.South.America -5.925e-01  1.595e-01  -3.714 0.000204 ***\n",
       "regionAsia                    -6.475e-02  2.044e-01  -0.317 0.751446    \n",
       "regionOther                   -4.300e-01  1.651e-01  -2.604 0.009206 ** \n",
       "regionEurope                   4.404e-02  1.552e-01   0.284 0.776660    \n",
       "---\n",
       "Signif. codes:  0 '***' 0.001 '**' 0.01 '*' 0.05 '.' 0.1 ' ' 1\n",
       "\n",
       "(Dispersion parameter for binomial family taken to be 1)\n",
       "\n",
       "    Null deviance: 24138  on 21502  degrees of freedom\n",
       "Residual deviance: 14004  on 21449  degrees of freedom\n",
       "AIC: 14112\n",
       "\n",
       "Number of Fisher Scoring iterations: 14\n"
      ]
     },
     "metadata": {},
     "output_type": "display_data"
    }
   ],
   "source": [
    "# Summary of new model\n",
    "summary(new.step.model)"
   ]
  },
  {
   "cell_type": "code",
   "execution_count": 24,
   "metadata": {
    "vscode": {
     "languageId": "r"
    }
   },
   "outputs": [
    {
     "data": {
      "text/plain": [
       "       \n",
       "        FALSE TRUE\n",
       "  <=50K  6372  548\n",
       "  >50K    872 1423"
      ]
     },
     "metadata": {},
     "output_type": "display_data"
    }
   ],
   "source": [
    "# create confusion matrix using the predict function\n",
    "test$predicted.income <- predict(model, newdata = test, type = \"response\")\n",
    "\n",
    "table(test$income, test$predicted.income > 0.5)"
   ]
  },
  {
   "cell_type": "code",
   "execution_count": 25,
   "metadata": {
    "vscode": {
     "languageId": "r"
    }
   },
   "outputs": [
    {
     "name": "stdout",
     "output_type": "stream",
     "text": [
      "[1] \"Accurary: 0.85\"\n",
      "[1] \"Recall: 0.97\"\n",
      "[1] \"Precision: 0.93\"\n"
     ]
    }
   ],
   "source": [
    "# Check accuracy, recall, precision\n",
    "print(paste(\"Accurary:\", round((6372 + 1423) / (6372 + 1423 + 548 + 872), 2)))\n",
    "# recall\n",
    "print(paste(\"Recall:\", round((6732 / (6372 + 548)), 2)))\n",
    "# precision\n",
    "print(paste(\"Precision:\", round((6732 / (6372 + 872)), 2)))"
   ]
  }
 ],
 "metadata": {
  "kernelspec": {
   "display_name": "R",
   "language": "R",
   "name": "ir"
  },
  "language_info": {
   "codemirror_mode": "r",
   "file_extension": ".r",
   "mimetype": "text/x-r-source",
   "name": "R",
   "pygments_lexer": "r",
   "version": "4.4.0"
  }
 },
 "nbformat": 4,
 "nbformat_minor": 2
}
