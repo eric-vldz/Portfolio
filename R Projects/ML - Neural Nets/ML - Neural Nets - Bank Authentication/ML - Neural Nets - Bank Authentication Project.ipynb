{
 "cells": [
  {
   "cell_type": "code",
   "execution_count": 19,
   "metadata": {
    "vscode": {
     "languageId": "r"
    }
   },
   "outputs": [
    {
     "name": "stdout",
     "output_type": "stream",
     "text": [
      "'data.frame':\t1372 obs. of  5 variables:\n",
      " $ Image.Var : num  3.622 4.546 3.866 3.457 0.329 ...\n",
      " $ Image.Skew: num  8.67 8.17 -2.64 9.52 -4.46 ...\n",
      " $ Image.Curt: num  -2.81 -2.46 1.92 -4.01 4.57 ...\n",
      " $ Entropy   : num  -0.447 -1.462 0.106 -3.594 -0.989 ...\n",
      " $ Class     : int  0 0 0 0 0 0 0 0 0 0 ...\n"
     ]
    }
   ],
   "source": [
    "# Import libraries and dataset\n",
    "library(neuralnet)\n",
    "library(randomForest)\n",
    "library(caTools)\n",
    "library(ggplot2)\n",
    "df <- read.csv(\"bank_note_data.csv\")\n",
    "str(df)"
   ]
  },
  {
   "cell_type": "code",
   "execution_count": 20,
   "metadata": {
    "vscode": {
     "languageId": "r"
    }
   },
   "outputs": [
    {
     "name": "stderr",
     "output_type": "stream",
     "text": [
      "Warning message:\n",
      "\"In subset.data.frame(df, sample = TRUE) :\n",
      " extra argument 'sample' will be disregarded\"\n",
      "Warning message:\n",
      "\"In subset.data.frame(df, sample = FALSE) :\n",
      " extra argument 'sample' will be disregarded\"\n"
     ]
    }
   ],
   "source": [
    "# Split the data into train and test sets\n",
    "set.seed(101)\n",
    "split <- sample.split(df$Class, SplitRatio = 0.7)\n",
    "train <- subset(df, sample = TRUE)\n",
    "test <- subset(df, sample = FALSE)"
   ]
  },
  {
   "cell_type": "code",
   "execution_count": 21,
   "metadata": {
    "vscode": {
     "languageId": "r"
    }
   },
   "outputs": [],
   "source": [
    "# Use the neuralnet function to train a neural net\n",
    "\n",
    "nn <- neuralnet(Class ~ Image.Var + Image.Skew + Image.Curt + Entropy, data = train, hidden = 10, linear.output = FALSE)"
   ]
  },
  {
   "cell_type": "code",
   "execution_count": 22,
   "metadata": {
    "vscode": {
     "languageId": "r"
    }
   },
   "outputs": [
    {
     "name": "stdout",
     "output_type": "stream",
     "text": [
      "          [,1]\n",
      "1 2.118768e-05\n",
      "2 6.452224e-06\n",
      "3 3.588836e-05\n",
      "4 5.065414e-05\n",
      "5 2.355704e-02\n",
      "6 2.958206e-05\n"
     ]
    }
   ],
   "source": [
    "# Use compute() to make predictions and check predictions\n",
    "\n",
    "pr.nn <- compute(nn, test[1:4])\n",
    "print(head(pr.nn$net.result))"
   ]
  },
  {
   "cell_type": "code",
   "execution_count": 23,
   "metadata": {
    "vscode": {
     "languageId": "r"
    }
   },
   "outputs": [
    {
     "name": "stdout",
     "output_type": "stream",
     "text": [
      "[1] 0 0 0 0 0 0\n"
     ]
    },
    {
     "data": {
      "text/plain": [
       "           \n",
       "predictions   0   1\n",
       "          0 762   0\n",
       "          1   0 610"
      ]
     },
     "metadata": {},
     "output_type": "display_data"
    }
   ],
   "source": [
    "# apply the round function to the predicted values, use table() to compare predictions to actual values\n",
    "predictions <- sapply(pr.nn$net.result, round)\n",
    "print(head(predictions))\n",
    "table(predictions, test$Class)"
   ]
  },
  {
   "cell_type": "code",
   "execution_count": 24,
   "metadata": {
    "vscode": {
     "languageId": "r"
    }
   },
   "outputs": [
    {
     "name": "stderr",
     "output_type": "stream",
     "text": [
      "Warning message:\n",
      "\"In subset.data.frame(df, sample = TRUE) :\n",
      " extra argument 'sample' will be disregarded\"\n",
      "Warning message:\n",
      "\"In subset.data.frame(df, sample = FALSE) :\n",
      " extra argument 'sample' will be disregarded\"\n"
     ]
    }
   ],
   "source": [
    "# Set the Class column of the data as a factor and re-do the train/test split\n",
    "\n",
    "df$Class <- as.factor(df$Class)\n",
    "set.seed(101)\n",
    "split <- sample.split(df$Class, SplitRatio = 0.7)\n",
    "train <- subset(df, sample = TRUE)\n",
    "test <- subset(df, sample = FALSE)"
   ]
  },
  {
   "cell_type": "code",
   "execution_count": 26,
   "metadata": {
    "vscode": {
     "languageId": "r"
    }
   },
   "outputs": [
    {
     "data": {
      "text/plain": [
       "       \n",
       "rf.pred   0   1\n",
       "      0 762   0\n",
       "      1   0 610"
      ]
     },
     "metadata": {},
     "output_type": "display_data"
    }
   ],
   "source": [
    "# Create a random forest model with adjusted training data, use the predict() function to make predictions from the rf model and use table() to compare predictions to actual values\n",
    "\n",
    "model <- randomForest(Class ~ Image.Var + Image.Skew + Image.Curt + Entropy, data = train)\n",
    "rf.pred <- predict(model, test)\n",
    "table(rf.pred, test$Class)"
   ]
  }
 ],
 "metadata": {
  "kernelspec": {
   "display_name": "R",
   "language": "R",
   "name": "ir"
  },
  "language_info": {
   "codemirror_mode": "r",
   "file_extension": ".r",
   "mimetype": "text/x-r-source",
   "name": "R",
   "pygments_lexer": "r",
   "version": "4.4.0"
  }
 },
 "nbformat": 4,
 "nbformat_minor": 2
}
