{
 "cells": [
  {
   "cell_type": "code",
   "execution_count": 4,
   "metadata": {
    "vscode": {
     "languageId": "r"
    }
   },
   "outputs": [
    {
     "name": "stderr",
     "output_type": "stream",
     "text": [
      "Warning message:\n",
      "\"package 'e1071' was built under R version 4.4.1\"\n"
     ]
    },
    {
     "name": "stdout",
     "output_type": "stream",
     "text": [
      "  Sepal.Length Sepal.Width Petal.Length Petal.Width Species\n",
      "1          5.1         3.5          1.4         0.2  setosa\n",
      "2          4.9         3.0          1.4         0.2  setosa\n",
      "3          4.7         3.2          1.3         0.2  setosa\n",
      "4          4.6         3.1          1.5         0.2  setosa\n",
      "5          5.0         3.6          1.4         0.2  setosa\n",
      "6          5.4         3.9          1.7         0.4  setosa\n"
     ]
    }
   ],
   "source": [
    "# load the ISLR package and the e1071 package. Print the head of the iris data set.\n",
    "library(ISLR)\n",
    "library(e1071)\n",
    "print(head(iris))"
   ]
  },
  {
   "cell_type": "code",
   "execution_count": 5,
   "metadata": {
    "vscode": {
     "languageId": "r"
    }
   },
   "outputs": [
    {
     "data": {
      "text/plain": [
       "\n",
       "Call:\n",
       "svm(formula = Species ~ ., data = iris)\n",
       "\n",
       "\n",
       "Parameters:\n",
       "   SVM-Type:  C-classification \n",
       " SVM-Kernel:  radial \n",
       "       cost:  1 \n",
       "\n",
       "Number of Support Vectors:  51\n",
       "\n",
       " ( 8 22 21 )\n",
       "\n",
       "\n",
       "Number of Classes:  3 \n",
       "\n",
       "Levels: \n",
       " setosa versicolor virginica\n",
       "\n",
       "\n"
      ]
     },
     "metadata": {},
     "output_type": "display_data"
    }
   ],
   "source": [
    "# Create a support vector model using the iris data set.\n",
    "model <- svm(Species ~ ., data = iris)\n",
    "summary(model)"
   ]
  },
  {
   "cell_type": "code",
   "execution_count": 7,
   "metadata": {
    "vscode": {
     "languageId": "r"
    }
   },
   "outputs": [
    {
     "data": {
      "text/plain": [
       "\n",
       "Parameter tuning of 'svm':\n",
       "\n",
       "- sampling method: 10-fold cross validation \n",
       "\n",
       "- best parameters:\n",
       " cost gamma\n",
       "    1   0.5\n",
       "\n",
       "- best performance: 0.04666667 \n",
       "\n",
       "- Detailed performance results:\n",
       "  cost gamma      error dispersion\n",
       "1  0.1   0.5 0.06000000 0.04919099\n",
       "2  1.0   0.5 0.04666667 0.05488484\n",
       "3 10.0   0.5 0.06000000 0.04919099\n",
       "4  0.1   1.0 0.06000000 0.04919099\n",
       "5  1.0   1.0 0.06000000 0.05837300\n",
       "6 10.0   1.0 0.06666667 0.05443311\n",
       "7  0.1   2.0 0.06666667 0.05443311\n",
       "8  1.0   2.0 0.05333333 0.06126244\n",
       "9 10.0   2.0 0.06666667 0.05443311\n"
      ]
     },
     "metadata": {},
     "output_type": "display_data"
    }
   ],
   "source": [
    "# find the lowest error rate and the best cost and gamma values using tune()\n",
    "tune.results <- tune(svm,\n",
    "    train.x = iris[, 1:4], train.y = iris[, 5], kernel = \"radial\",\n",
    "    ranges = list(cost = c(0.1, 1, 10), gamma = c(0.5, 1, 2))\n",
    ")\n",
    "summary(tune.results )"
   ]
  },
  {
   "cell_type": "code",
   "execution_count": 8,
   "metadata": {
    "vscode": {
     "languageId": "r"
    }
   },
   "outputs": [
    {
     "data": {
      "text/plain": [
       "\n",
       "Call:\n",
       "svm(formula = Species ~ ., data = iris, cost = 1, gamma = 0.5, kernel = \"radial\")\n",
       "\n",
       "\n",
       "Parameters:\n",
       "   SVM-Type:  C-classification \n",
       " SVM-Kernel:  radial \n",
       "       cost:  1 \n",
       "\n",
       "Number of Support Vectors:  59\n",
       "\n",
       " ( 11 23 25 )\n",
       "\n",
       "\n",
       "Number of Classes:  3 \n",
       "\n",
       "Levels: \n",
       " setosa versicolor virginica\n",
       "\n",
       "\n"
      ]
     },
     "metadata": {},
     "output_type": "display_data"
    }
   ],
   "source": [
    "# best parameters: cost = 1 gamma = 0.5\n",
    "\n",
    "tuned.svm <- svm(Species ~ ., data = iris, cost = 1, gamma = 0.5, kernel = \"radial\")\n",
    "summary(tuned.svm)"
   ]
  }
 ],
 "metadata": {
  "kernelspec": {
   "display_name": "R",
   "language": "R",
   "name": "ir"
  },
  "language_info": {
   "codemirror_mode": "r",
   "file_extension": ".r",
   "mimetype": "text/x-r-source",
   "name": "R",
   "pygments_lexer": "r",
   "version": "4.4.0"
  }
 },
 "nbformat": 4,
 "nbformat_minor": 2
}
